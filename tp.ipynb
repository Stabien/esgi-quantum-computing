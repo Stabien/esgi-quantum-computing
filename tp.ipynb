{
  "cells": [
    {
      "cell_type": "markdown",
      "metadata": {},
      "source": [
        "# Quantum Treasure Door Puzzle\n",
        "\n",
        "This project uses Qiskit, an open-source quantum computing framework, to solve the quantum treasure door puzzle with two guardians: one always lies, and the other always tells the truth. The goal is to create a quantum circuit that represents this puzzle, simulate the circuit, and display the probabilities of each case on a histogram."
      ]
    },
    {
      "cell_type": "code",
      "execution_count": null,
      "metadata": {},
      "outputs": [],
      "source": [
        "# Import necessary libraries\n",
        "from qiskit import Aer, QuantumCircuit, transpile, assemble\n",
        "from qiskit.visualization import plot_histogram\n",
        "\n",
        "# Create the quantum circuit\n",
        "quantum_circuit = QuantumCircuit(2, 1)\n",
        "\n",
        "# Add quantum gates to represent the puzzle\n",
        "quantum_circuit.h(0)  # Hadamard gate on the first qubit\n",
        "quantum_circuit.cx(0, 1)  # CNOT gate between the first and second qubit\n",
        "quantum_circuit.x(1).c_if(0, 1)  # Conditional X gate on the second qubit\n",
        "\n",
        "# Measure the second qubit and display the result\n",
        "quantum_circuit.measure(1, 0)\n",
        "\n",
        "# Display the quantum circuit\n",
        "quantum_circuit.draw('mpl')\n"
      ]
    },
    {
      "cell_type": "code",
      "execution_count": null,
      "metadata": {},
      "outputs": [],
      "source": [
        "# Simulate the circuit\n",
        "simulator = Aer.get_backend('qasm_simulator')\n",
        "transpiled_circuit = transpile(quantum_circuit, simulator)\n",
        "qobj = assemble(transpiled_circuit)\n",
        "results = simulator.run(qobj).result()\n",
        "\n",
        "# Display the results on a histogram\n",
        "probabilities = results.get_counts(quantum_circuit)\n",
        "plot_histogram(probabilities)\n"
      ]
    }
  ],
  "metadata": {
    "kernelspec": {
      "display_name": "Python 3",
      "language": "python",
      "name": "python3"
    },
    "language_info": {
      "codemirror_mode": {
        "name": "ipython",
        "version": 3
      },
      "file_extension": ".py",
      "mimetype": "text/x-python",
      "name": "python",
      "nbconvert_exporter": "python",
      "pygments_lexer": "ipython3",
      "version": "3.8.5"
    }
  },
  "nbformat": 4,
  "nbformat_minor": 4
}
