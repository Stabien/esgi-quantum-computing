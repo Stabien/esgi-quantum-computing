{
  "cells": [
    {
      "cell_type": "code",
      "execution_count": 13,
      "metadata": {},
      "outputs": [
        {
          "name": "stderr",
          "output_type": "stream",
          "text": [
            "c:\\Users\\basti\\AppData\\Local\\Programs\\Python\\Python311\\Lib\\site-packages\\qiskit\\visualization\\circuit\\matplotlib.py:266: FutureWarning: The default matplotlib drawer scheme will be changed to \"iqp\" in a following release. To silence this warning, specify the current default explicitly as style=\"clifford\", or the new default as style=\"iqp\".\n",
            "  self._style, def_font_ratio = load_style(self._style)\n"
          ]
        },
        {
          "data": {
            "image/png": "[encoded data removed]",
            "text/plain": [
              "<Figure size 454.517x284.278 with 1 Axes>"
            ]
          },
          "execution_count": 13,
          "metadata": {},
          "output_type": "execute_result"
        }
      ],
      "source": [
        "from qiskit import Aer, QuantumCircuit, transpile, assemble\n",
        "from qiskit.visualization import plot_histogram\n",
        "\n",
        "quantum_circuit = QuantumCircuit(2, 1)\n",
        "\n",
        "quantum_circuit.h(0)\n",
        "quantum_circuit.cx(0, 1)\n",
        "quantum_circuit.x(1).c_if(0, 1)\n",
        "\n",
        "quantum_circuit.measure(1, 0)\n",
        "\n",
        "quantum_circuit.draw('mpl')"
      ]
    },
    {
      "cell_type": "code",
      "execution_count": null,
      "metadata": {},
      "outputs": [],
      "source": [
        "simulator = Aer.get_backend('qasm_simulator')\n",
        "transpiled_circuit = transpile(quantum_circuit, simulator)\n",
        "qobj = assemble(transpiled_circuit)\n",
        "results = simulator.run(qobj).result()\n",
        "\n",
        "probabilities = results.get_counts(quantum_circuit)\n",
        "plot_histogram(probabilities)\n"
      ]
    }
  ],
  "metadata": {
    "kernelspec": {
      "display_name": "Python 3",
      "language": "python",
      "name": "python3"
    },
    "language_info": {
      "codemirror_mode": {
        "name": "ipython",
        "version": 3
      },
      "file_extension": ".py",
      "mimetype": "text/x-python",
      "name": "python",
      "nbconvert_exporter": "python",
      "pygments_lexer": "ipython3",
      "version": "3.11.0"
    }
  },
  "nbformat": 4,
  "nbformat_minor": 4
}
